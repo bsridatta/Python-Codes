{
 "cells": [
  {
   "cell_type": "code",
   "execution_count": 2,
   "metadata": {},
   "outputs": [],
   "source": [
    "import sys\n",
    "sys.path.insert(0, '/media/datta/Sri Datta/_KTH_ACADEMIA/ML/dectrees/python')"
   ]
  },
  {
   "cell_type": "code",
   "execution_count": 3,
   "metadata": {},
   "outputs": [],
   "source": [
    "import monkdata as m\n",
    "import dtree\n",
    "import pandas as pd\n",
    "import drawtree_qt5 as dt5\n",
    "import matplotlib.pyplot as plt\n",
    "import numpy as np"
   ]
  },
  {
   "cell_type": "code",
   "execution_count": 4,
   "metadata": {},
   "outputs": [
    {
     "data": {
      "text/html": [
       "<div>\n",
       "<style scoped>\n",
       "    .dataframe tbody tr th:only-of-type {\n",
       "        vertical-align: middle;\n",
       "    }\n",
       "\n",
       "    .dataframe tbody tr th {\n",
       "        vertical-align: top;\n",
       "    }\n",
       "\n",
       "    .dataframe thead th {\n",
       "        text-align: right;\n",
       "    }\n",
       "</style>\n",
       "<table border=\"1\" class=\"dataframe\">\n",
       "  <thead>\n",
       "    <tr style=\"text-align: right;\">\n",
       "      <th></th>\n",
       "      <th>dataset</th>\n",
       "      <th>entropy</th>\n",
       "    </tr>\n",
       "  </thead>\n",
       "  <tbody>\n",
       "    <tr>\n",
       "      <th>0</th>\n",
       "      <td>monk1</td>\n",
       "      <td>1.000000</td>\n",
       "    </tr>\n",
       "    <tr>\n",
       "      <th>1</th>\n",
       "      <td>monk2</td>\n",
       "      <td>0.957117</td>\n",
       "    </tr>\n",
       "    <tr>\n",
       "      <th>2</th>\n",
       "      <td>monk3</td>\n",
       "      <td>0.999806</td>\n",
       "    </tr>\n",
       "  </tbody>\n",
       "</table>\n",
       "</div>"
      ],
      "text/plain": [
       "  dataset   entropy\n",
       "0   monk1  1.000000\n",
       "1   monk2  0.957117\n",
       "2   monk3  0.999806"
      ]
     },
     "execution_count": 4,
     "metadata": {},
     "output_type": "execute_result"
    }
   ],
   "source": [
    "entropy = {'dataset':['monk1', 'monk2', 'monk3'], 'entropy':[dtree.entropy(m.monk1), dtree.entropy(m.monk2), dtree.entropy(m.monk3)]}\n",
    "df_entropy = pd.DataFrame(entropy)\n",
    "df_entropy"
   ]
  },
  {
   "cell_type": "code",
   "execution_count": 5,
   "metadata": {},
   "outputs": [
    {
     "data": {
      "text/html": [
       "<div>\n",
       "<style scoped>\n",
       "    .dataframe tbody tr th:only-of-type {\n",
       "        vertical-align: middle;\n",
       "    }\n",
       "\n",
       "    .dataframe tbody tr th {\n",
       "        vertical-align: top;\n",
       "    }\n",
       "\n",
       "    .dataframe thead th {\n",
       "        text-align: right;\n",
       "    }\n",
       "</style>\n",
       "<table border=\"1\" class=\"dataframe\">\n",
       "  <thead>\n",
       "    <tr style=\"text-align: right;\">\n",
       "      <th></th>\n",
       "      <th>a1</th>\n",
       "      <th>a2</th>\n",
       "      <th>a3</th>\n",
       "      <th>a4</th>\n",
       "      <th>a5</th>\n",
       "      <th>a6</th>\n",
       "      <th>dataset</th>\n",
       "    </tr>\n",
       "  </thead>\n",
       "  <tbody>\n",
       "    <tr>\n",
       "      <th>0</th>\n",
       "      <td>0.075273</td>\n",
       "      <td>0.005838</td>\n",
       "      <td>0.004708</td>\n",
       "      <td>0.026312</td>\n",
       "      <td>0.287031</td>\n",
       "      <td>0.000758</td>\n",
       "      <td>monk1</td>\n",
       "    </tr>\n",
       "    <tr>\n",
       "      <th>1</th>\n",
       "      <td>0.003756</td>\n",
       "      <td>0.002458</td>\n",
       "      <td>0.001056</td>\n",
       "      <td>0.015664</td>\n",
       "      <td>0.017277</td>\n",
       "      <td>0.006248</td>\n",
       "      <td>monk2</td>\n",
       "    </tr>\n",
       "    <tr>\n",
       "      <th>2</th>\n",
       "      <td>0.007121</td>\n",
       "      <td>0.293736</td>\n",
       "      <td>0.000831</td>\n",
       "      <td>0.002892</td>\n",
       "      <td>0.255912</td>\n",
       "      <td>0.007077</td>\n",
       "      <td>monk3</td>\n",
       "    </tr>\n",
       "  </tbody>\n",
       "</table>\n",
       "</div>"
      ],
      "text/plain": [
       "         a1        a2        a3        a4        a5        a6 dataset\n",
       "0  0.075273  0.005838  0.004708  0.026312  0.287031  0.000758   monk1\n",
       "1  0.003756  0.002458  0.001056  0.015664  0.017277  0.006248   monk2\n",
       "2  0.007121  0.293736  0.000831  0.002892  0.255912  0.007077   monk3"
      ]
     },
     "execution_count": 5,
     "metadata": {},
     "output_type": "execute_result"
    }
   ],
   "source": [
    "average_gain = {'dataset':['monk1', 'monk2', 'monk3'], \n",
    "                'a1':[dtree.averageGain(m.monk1, m.attributes[0]), dtree.averageGain(m.monk2, m.attributes[0]), dtree.averageGain(m.monk3, m.attributes[0])],\n",
    "                'a2':[dtree.averageGain(m.monk1, m.attributes[1]), dtree.averageGain(m.monk2, m.attributes[1]), dtree.averageGain(m.monk3, m.attributes[1])],\n",
    "                'a3':[dtree.averageGain(m.monk1, m.attributes[2]), dtree.averageGain(m.monk2, m.attributes[2]), dtree.averageGain(m.monk3, m.attributes[2])],\n",
    "                'a4':[dtree.averageGain(m.monk1, m.attributes[3]), dtree.averageGain(m.monk2, m.attributes[3]), dtree.averageGain(m.monk3, m.attributes[3])],\n",
    "                'a5':[dtree.averageGain(m.monk1, m.attributes[4]), dtree.averageGain(m.monk2, m.attributes[4]), dtree.averageGain(m.monk3, m.attributes[4])],\n",
    "                'a6':[dtree.averageGain(m.monk1, m.attributes[5]), dtree.averageGain(m.monk2, m.attributes[5]), dtree.averageGain(m.monk3, m.attributes[5])]}\n",
    "df_average_gain = pd.DataFrame(average_gain)\n",
    "df_average_gain"
   ]
  },
  {
   "cell_type": "code",
   "execution_count": 6,
   "metadata": {},
   "outputs": [
    {
     "name": "stdout",
     "output_type": "stream",
     "text": [
      "######## Subset A5 = 1 ##########\n",
      "Pure Node\n",
      "######## Subset A5 = 2 ##########\n",
      "Information Gain on A1 : 0.0402168416094\n",
      "Information Gain on A2 : 0.0150634750722\n",
      "Information Gain on A3 : 0.0372726273602\n",
      "Information Gain on A4 : 0.0488922026295\n",
      "Information Gain on A6 : 0.0258072847239\n",
      "######## Subset A5 = 3 ##########\n",
      "Information Gain on A1 : 0.0330551001346\n",
      "Information Gain on A2 : 0.0021971835391\n",
      "Information Gain on A3 : 0.0179822938423\n",
      "Information Gain on A4 : 0.0191227551775\n",
      "Information Gain on A6 : 0.0451085378248\n",
      "######## Subset A5 = 4 ##########\n",
      "Information Gain on A1 : 0.206290746415\n",
      "Information Gain on A2 : 0.0338983950776\n",
      "Information Gain on A3 : 0.025906145435\n",
      "Information Gain on A4 : 0.0759329084415\n",
      "Information Gain on A6 : 0.00332396296316\n"
     ]
    }
   ],
   "source": [
    "monk1 = m.monk1\n",
    "bestatt = dtree.bestAttribute(monk1, m.attributes)\n",
    "for value in bestatt.values:\n",
    "    temp = dtree.select(monk1, m.attributes[4], value)\n",
    "    print(\"######## Subset A5 = \" + str(value) + \" ##########\")\n",
    "    if(dtree.allNegative(temp) | dtree.allPositive(temp)):\n",
    "        print(\"Pure Node\")\n",
    "    else:\n",
    "        remainAttributes = [x for x in m.attributes if x != bestatt]\n",
    "        for att in remainAttributes:\n",
    "            x = dtree.averageGain(temp, att)\n",
    "            print(\"Information Gain on \" + str(att) + \" : \" + str(x))"
   ]
  },
  {
   "cell_type": "code",
   "execution_count": 7,
   "metadata": {},
   "outputs": [
    {
     "name": "stdout",
     "output_type": "stream",
     "text": [
      "######## Subset A5 = 1 ##########\n",
      "True\n",
      "######## Subset A5 = 2 ##########\n",
      "Split by : A4\n",
      "********** Subset = 1 ***********\n",
      "False\n",
      "********** Subset = 2 ***********\n",
      "False\n",
      "********** Subset = 3 ***********\n",
      "False\n",
      "######## Subset A5 = 3 ##########\n",
      "Split by : A6\n",
      "********** Subset = 1 ***********\n",
      "False\n",
      "********** Subset = 2 ***********\n",
      "False\n",
      "######## Subset A5 = 4 ##########\n",
      "Split by : A1\n",
      "********** Subset = 1 ***********\n",
      "False\n",
      "********** Subset = 2 ***********\n",
      "False\n",
      "********** Subset = 3 ***********\n",
      "True\n"
     ]
    }
   ],
   "source": [
    "monk1 = m.monk1\n",
    "bestatt = dtree.bestAttribute(monk1, m.attributes)\n",
    "for value in bestatt.values:\n",
    "    temp = dtree.select(monk1, bestatt, value)\n",
    "    print(\"######## Subset A5 = \" + str(value) + \" ##########\")\n",
    "    if(dtree.allNegative(temp) | dtree.allPositive(temp)):\n",
    "        print(dtree.mostCommon(temp))\n",
    "    else:\n",
    "        remainAttributes = [x for x in m.attributes if x != bestatt]\n",
    "        bestatt2 = dtree.bestAttribute(temp, remainAttributes)\n",
    "        print(\"Split by : \" + str(bestatt2))\n",
    "        for val in bestatt2.values:\n",
    "            temp2 = dtree.select(temp, bestatt2, val)\n",
    "            print(\"********** Subset = \" + str(val) + \" ***********\")\n",
    "            print(dtree.mostCommon(temp2))"
   ]
  },
  {
   "cell_type": "markdown",
   "metadata": {},
   "source": [
    "### Assignment 5 "
   ]
  },
  {
   "cell_type": "code",
   "execution_count": 8,
   "metadata": {},
   "outputs": [
    {
     "name": "stdout",
     "output_type": "stream",
     "text": [
      "Dataset Monk-1\n",
      "Training Error : 0.0\n",
      "Test Error : 0.171296296296\n",
      "Dataset Monk-2\n",
      "Training Error : 0.0\n",
      "Test Error : 0.30787037037\n",
      "Dataset Monk-3\n",
      "Training Error : 0.0\n",
      "Test Error : 0.0555555555556\n"
     ]
    }
   ],
   "source": [
    "monk1 = [m.monk1, m.monk1test]\n",
    "monk2 = [m.monk2, m.monk2test]\n",
    "monk3 = [m.monk3, m.monk3test]\n",
    "dataset_list = [monk1, monk2, monk3]\n",
    "for i in range(0,len(dataset_list)):\n",
    "    print(\"Dataset Monk-\" + str(i+1))\n",
    "    t=dtree.buildTree(dataset_list[i][0], m.attributes)\n",
    "    print(\"Training Error : \" + str(1 - dtree.check(t, dataset_list[i][0])))\n",
    "    print(\"Test Error : \" + str(1-dtree.check(t, dataset_list[i][1])))"
   ]
  },
  {
   "cell_type": "markdown",
   "metadata": {},
   "source": [
    "### Assignment 7"
   ]
  },
  {
   "cell_type": "code",
   "execution_count": 9,
   "metadata": {},
   "outputs": [],
   "source": [
    "def prune(tree, validation):\n",
    "    resultTree = tree\n",
    "    resultAcc = dtree.check(resultTree, validation)\n",
    "    alternatives = dtree.allPruned(resultTree)\n",
    "    #print(\"mashook pak eko\")\n",
    "    for alternative in alternatives:\n",
    "        tempTree = alternative\n",
    "        tempAcc = dtree.check(tempTree, validation)\n",
    "        if(tempAcc > resultAcc):\n",
    "            resultTree = tempTree\n",
    "            resultAcc = tempAcc\n",
    "            \n",
    "    if(resultTree == tree):\n",
    "        return resultTree\n",
    "\n",
    "    return prune(resultTree, validation)"
   ]
  },
  {
   "cell_type": "code",
   "execution_count": 10,
   "metadata": {},
   "outputs": [],
   "source": [
    "import random\n",
    "def partition(data, fraction):\n",
    "    ldata = list(data)\n",
    "    random.shuffle(ldata)\n",
    "    breakPoint = int(len(ldata) * fraction)\n",
    "    return ldata[:breakPoint], ldata[breakPoint:]\n",
    "\n"
   ]
  },
  {
   "cell_type": "code",
   "execution_count": 11,
   "metadata": {},
   "outputs": [],
   "source": [
    "def assignment7(dataset, fractions):\n",
    "    errorInitial = []\n",
    "    errorPruned = []\n",
    "    meanErrorInitial = []\n",
    "    meanErrorPruned = []\n",
    "    varianceErrorInitial = []\n",
    "    varianceErrorPruned = []\n",
    "\n",
    "    for fraction in fractions:\n",
    "        for i in range(0,250):\n",
    "            monktrain, monkval = partition(dataset, fraction)\n",
    "            initialTree = dtree.buildTree(monktrain, m.attributes)\n",
    "            prunedTree = prune(initialTree, monkval)\n",
    "            errorInitial.append(1-dtree.check(initialTree, m.monk1test))\n",
    "            errorPruned.append(1-dtree.check(prunedTree, m.monk1test))\n",
    "\n",
    "        meanErrorInitial.append(np.mean(errorInitial))\n",
    "        meanErrorPruned.append(np.mean(errorPruned))\n",
    "        varianceErrorInitial.append(np.var(errorInitial))\n",
    "        varianceErrorPruned.append(np.var(errorPruned))\n",
    "    \n",
    "    plot_result(meanErrorInitial, meanErrorPruned, varianceErrorInitial, varianceErrorPruned)"
   ]
  },
  {
   "cell_type": "code",
   "execution_count": 12,
   "metadata": {},
   "outputs": [],
   "source": [
    "def plot_result(meanErrorInitial, meanErrorPruned, varianceErrorInitial, varianceErrorPruned):\n",
    "    fig, ax =plt.subplots(1,2, figsize=(20,10))\n",
    "    fig.subplots_adjust(wspace=.25)\n",
    "    ax[0].set_title('Mean Error')\n",
    "    ax[1].set_title('Variance')\n",
    "\n",
    "    df = pd.DataFrame(np.c_[meanErrorInitial,meanErrorPruned], index=fractions).reset_index()\n",
    "    df.columns = ['Fraction','Initial', 'Pruned']\n",
    "    df = pd.melt(df, id_vars=\"Fraction\", var_name=\"Tree\", value_name=\"Mean Error\")\n",
    "    seaborn.factorplot(x='Fraction', y='Mean Error', hue='Tree', data=df, kind='bar', ax=ax[0])\n",
    "\n",
    "    df = pd.DataFrame(np.c_[varianceErrorInitial,varianceErrorPruned], index=fractions).reset_index()\n",
    "    df.columns = ['Fraction','Initial', 'Pruned']\n",
    "    df = pd.melt(df, id_vars=\"Fraction\", var_name=\"Tree\", value_name=\"Variance Error\")\n",
    "    seaborn.factorplot(x='Fraction', y='Variance Error', hue='Tree', data=df, kind='bar', ax=ax[1])\n"
   ]
  },
  {
   "cell_type": "code",
   "execution_count": 13,
   "metadata": {
    "scrolled": true
   },
   "outputs": [
    {
     "name": "stdout",
     "output_type": "stream",
     "text": [
      "124\n"
     ]
    },
    {
     "name": "stderr",
     "output_type": "stream",
     "text": [
      "/usr/local/lib/python2.7/dist-packages/seaborn/categorical.py:3666: UserWarning: The `factorplot` function has been renamed to `catplot`. The original name will be removed in a future release. Please update your code. Note that the default `kind` in `factorplot` (`'point'`) has changed `'strip'` in `catplot`.\n",
      "  warnings.warn(msg)\n"
     ]
    },
    {
     "data": {
      "image/png": "[encoded data removed]",
      "text/plain": [
       "<Figure size 1440x720 with 2 Axes>"
      ]
     },
     "metadata": {
      "needs_background": "light"
     },
     "output_type": "display_data"
    },
    {
     "data": {
      "image/png": "[encoded data removed]",
      "text/plain": [
       "<Figure size 431.375x360 with 1 Axes>"
      ]
     },
     "metadata": {
      "needs_background": "light"
     },
     "output_type": "display_data"
    },
    {
     "data": {
      "image/png": "[encoded data removed]",
      "text/plain": [
       "<Figure size 431.375x360 with 1 Axes>"
      ]
     },
     "metadata": {
      "needs_background": "light"
     },
     "output_type": "display_data"
    }
   ],
   "source": [
    "## Monk 1\n",
    "import seaborn\n",
    "fractions = [.3, .4, .5, .6, .7, .8]\n",
    "print len(m.monk1)\n",
    "assignment7(m.monk1, fractions)"
   ]
  },
  {
   "cell_type": "code",
   "execution_count": 14,
   "metadata": {
    "scrolled": true
   },
   "outputs": [
    {
     "data": {
      "image/png": "[encoded data removed]",
      "text/plain": [
       "<Figure size 1440x720 with 2 Axes>"
      ]
     },
     "metadata": {
      "needs_background": "light"
     },
     "output_type": "display_data"
    },
    {
     "data": {
      "image/png": "[encoded data removed]",
      "text/plain": [
       "<Figure size 431.375x360 with 1 Axes>"
      ]
     },
     "metadata": {
      "needs_background": "light"
     },
     "output_type": "display_data"
    },
    {
     "data": {
      "image/png": "[encoded data removed]",
      "text/plain": [
       "<Figure size 431.375x360 with 1 Axes>"
      ]
     },
     "metadata": {
      "needs_background": "light"
     },
     "output_type": "display_data"
    }
   ],
   "source": [
    "## Monk 3\n",
    "fractions = [.3, .4, .5, .6, .7, .8]\n",
    "assignment7(m.monk3, fractions)"
   ]
  },
  {
   "cell_type": "code",
   "execution_count": 15,
   "metadata": {},
   "outputs": [
    {
     "name": "stdout",
     "output_type": "stream",
     "text": [
      "Fraction : 0.3\n",
      "Fraction : 0.4\n",
      "Fraction : 0.5\n",
      "Fraction : 0.6\n",
      "Fraction : 0.7\n",
      "Fraction : 0.8\n"
     ]
    }
   ],
   "source": [
    "import numpy as np\n",
    "monk1 = m.monk1\n",
    "errorInitial = []\n",
    "errorPruned = []\n",
    "meanErrorInitial = []\n",
    "meanErrorPruned = []\n",
    "varianceErrorInitial = []\n",
    "varianceErrorPruned = []\n",
    "\n",
    "fractions = [.3, .4, .5, .6, .7, .8]\n",
    "for fraction in fractions:\n",
    "    for i in range(0,250):\n",
    "        monktrain, monkval = partition(monk1, fraction)\n",
    "        initialTree = dtree.buildTree(monktrain, m.attributes)\n",
    "        prunedTree = prune(initialTree, monkval)\n",
    "        errorInitial.append(1-dtree.check(initialTree, m.monk1test))\n",
    "        errorPruned.append(1-dtree.check(prunedTree, m.monk1test))\n",
    "    \n",
    "    print(\"Fraction : \" + str(fraction))\n",
    "    \n",
    "    meanErrorInitial.append(np.mean(errorInitial))\n",
    "    meanErrorPruned.append(np.mean(errorPruned))\n",
    "    varianceErrorInitial.append(np.var(errorInitial))\n",
    "    varianceErrorPruned.append(np.var(errorPruned))\n",
    "    \n",
    "    '''print(\"Mean Test Error on Initial Tree : \" + str(np.mean(errorInitial)))\n",
    "    print(\"Mean Test Error on Pruned Tree : \" + str(np.mean(errorPruned)))\n",
    "    print(\"Variance Test Error on Initial Tree : \" + str(np.var(errorInitial)))\n",
    "    print(\"Variance Test Error on Pruned Tree : \" + str(np.var(errorPruned)))'''\n",
    "    "
   ]
  },
  {
   "cell_type": "code",
   "execution_count": 16,
   "metadata": {},
   "outputs": [
    {
     "name": "stdout",
     "output_type": "stream",
     "text": [
      "Fraction : 0.3\n",
      "Fraction : 0.4\n",
      "Fraction : 0.5\n",
      "Fraction : 0.6\n",
      "Fraction : 0.7\n",
      "Fraction : 0.8\n"
     ]
    }
   ],
   "source": [
    "monk3 = m.monk3\n",
    "errorInitial = []\n",
    "errorPruned = []\n",
    "meanErrorInitial = []\n",
    "meanErrorPruned = []\n",
    "varianceErrorInitial = []\n",
    "varianceErrorPruned = []\n",
    "\n",
    "fractions = [.3, .4, .5, .6, .7, .8]\n",
    "for fraction in fractions:\n",
    "    for i in range(0,250):\n",
    "        monktrain, monkval = partition(monk3, fraction)\n",
    "        initialTree = dtree.buildTree(monktrain, m.attributes)\n",
    "        prunedTree = prune(initialTree, monkval)\n",
    "        errorInitial.append(1-dtree.check(initialTree, m.monk3test))\n",
    "        errorPruned.append(1-dtree.check(prunedTree, m.monk3test))\n",
    "    \n",
    "    print(\"Fraction : \" + str(fraction))\n",
    "    \n",
    "    meanErrorInitial.append(np.mean(errorInitial))\n",
    "    meanErrorPruned.append(np.mean(errorPruned))\n",
    "    varianceErrorInitial.append(np.var(errorInitial))\n",
    "    varianceErrorPruned.append(np.var(errorPruned))\n",
    "    \n",
    "    '''print(\"Mean Test Error on Initial Tree : \" + str(np.mean(errorInitial)))\n",
    "    print(\"Mean Test Error on Pruned Tree : \" + str(np.mean(errorPruned)))\n",
    "    print(\"Variance Test Error on Initial Tree : \" + str(np.var(errorInitial)))\n",
    "    print(\"Variance Test Error on Pruned Tree : \" + str(np.var(errorPruned)))'''\n",
    "    "
   ]
  },
  {
   "cell_type": "code",
   "execution_count": 17,
   "metadata": {},
   "outputs": [
    {
     "data": {
      "text/plain": [
       "<seaborn.axisgrid.FacetGrid at 0x7f100bc44b10>"
      ]
     },
     "execution_count": 17,
     "metadata": {},
     "output_type": "execute_result"
    },
    {
     "data": {
      "image/png": "[encoded data removed]",
      "text/plain": [
       "<Figure size 1440x720 with 2 Axes>"
      ]
     },
     "metadata": {
      "needs_background": "light"
     },
     "output_type": "display_data"
    },
    {
     "data": {
      "image/png": "[encoded data removed]",
      "text/plain": [
       "<Figure size 431.375x360 with 1 Axes>"
      ]
     },
     "metadata": {
      "needs_background": "light"
     },
     "output_type": "display_data"
    },
    {
     "data": {
      "image/png": "[encoded data removed]",
      "text/plain": [
       "<Figure size 431.375x360 with 1 Axes>"
      ]
     },
     "metadata": {
      "needs_background": "light"
     },
     "output_type": "display_data"
    }
   ],
   "source": [
    "fig, ax =plt.subplots(1,2, figsize=(20,10))\n",
    "fig.subplots_adjust(wspace=.25)\n",
    "fig.suptitle('Monk 1 Dataset', fontsize=16)\n",
    "ax[0].set_title('Mean Error')\n",
    "ax[1].set_title('Variance')\n",
    "\n",
    "df = pd.DataFrame(np.c_[meanErrorInitial,meanErrorPruned], index=fractions).reset_index()\n",
    "df.columns = ['Fraction','Initial', 'Pruned']\n",
    "df = pd.melt(df, id_vars=\"Fraction\", var_name=\"Tree\", value_name=\"Mean Error\")\n",
    "seaborn.factorplot(x='Fraction', y='Mean Error', hue='Tree', data=df, kind='bar', ax=ax[0])\n",
    "\n",
    "df = pd.DataFrame(np.c_[varianceErrorInitial,varianceErrorPruned], index=fractions).reset_index()\n",
    "df.columns = ['Fraction','Initial', 'Pruned']\n",
    "df = pd.melt(df, id_vars=\"Fraction\", var_name=\"Tree\", value_name=\"Variance Error\")\n",
    "seaborn.factorplot(x='Fraction', y='Variance Error', hue='Tree', data=df, kind='bar', ax=ax[1])\n"
   ]
  },
  {
   "cell_type": "code",
   "execution_count": 18,
   "metadata": {},
   "outputs": [
    {
     "data": {
      "text/plain": [
       "<seaborn.axisgrid.FacetGrid at 0x7f1037ffaad0>"
      ]
     },
     "execution_count": 18,
     "metadata": {},
     "output_type": "execute_result"
    },
    {
     "data": {
      "image/png": "[encoded data removed]",
      "text/plain": [
       "<Figure size 431.375x360 with 1 Axes>"
      ]
     },
     "metadata": {
      "needs_background": "light"
     },
     "output_type": "display_data"
    }
   ],
   "source": [
    "df = pd.DataFrame(np.c_[varianceErrorInitial,varianceErrorPruned], index=fractions).reset_index()\n",
    "df.columns = ['Fraction','Initial', 'Pruned']\n",
    "df = pd.melt(df, id_vars=\"Fraction\", var_name=\"Tree\", value_name=\"Variance Error\")\n",
    "seaborn.factorplot(x='Fraction', y='Variance Error', hue='Tree', data=df, kind='bar')"
   ]
  },
  {
   "cell_type": "code",
   "execution_count": 19,
   "metadata": {},
   "outputs": [
    {
     "ename": "SystemExit",
     "evalue": "0",
     "output_type": "error",
     "traceback": [
      "An exception has occurred, use %tb to see the full traceback.\n",
      "\u001b[0;31mSystemExit\u001b[0m\u001b[0;31m:\u001b[0m 0\n"
     ]
    },
    {
     "name": "stderr",
     "output_type": "stream",
     "text": [
      "/usr/local/lib/python2.7/dist-packages/IPython/core/interactiveshell.py:2886: UserWarning: To exit: use 'exit', 'quit', or Ctrl-D.\n",
      "  warn(\"To exit: use 'exit', 'quit', or Ctrl-D.\", stacklevel=1)\n"
     ]
    }
   ],
   "source": [
    "t = dtree.buildTree(m.monk1, m.attributes, 2)\n",
    "dt5.drawTree(t)"
   ]
  },
  {
   "cell_type": "code",
   "execution_count": null,
   "metadata": {},
   "outputs": [],
   "source": [
    "for x in monk1[0:10]:\n",
    "    print (x.attribute)"
   ]
  },
  {
   "cell_type": "code",
   "execution_count": null,
   "metadata": {},
   "outputs": [],
   "source": [
    "t=dtree.buildTree(m.monk1, m.attributes);\n",
    "print(dtree.check(t, m.monk1test))"
   ]
  },
  {
   "cell_type": "code",
   "execution_count": null,
   "metadata": {},
   "outputs": [],
   "source": [
    "newtree = dtree.buildTree(m.monk3, m.attributes, 2)\n",
    "\n",
    "dt5.drawTree(newtree)"
   ]
  },
  {
   "cell_type": "code",
   "execution_count": null,
   "metadata": {},
   "outputs": [],
   "source": [
    "print m.monk2"
   ]
  },
  {
   "cell_type": "code",
   "execution_count": null,
   "metadata": {},
   "outputs": [],
   "source": []
  },
  {
   "cell_type": "code",
   "execution_count": null,
   "metadata": {},
   "outputs": [],
   "source": []
  },
  {
   "cell_type": "code",
   "execution_count": null,
   "metadata": {},
   "outputs": [],
   "source": []
  }
 ],
 "metadata": {
  "kernelspec": {
   "display_name": "Python 3",
   "language": "python",
   "name": "python3"
  },
  "language_info": {
   "codemirror_mode": {
    "name": "ipython",
    "version": 2
   },
   "file_extension": ".py",
   "mimetype": "text/x-python",
   "name": "python",
   "nbconvert_exporter": "python",
   "pygments_lexer": "ipython2",
   "version": "2.7.12"
  }
 },
 "nbformat": 4,
 "nbformat_minor": 2
}
