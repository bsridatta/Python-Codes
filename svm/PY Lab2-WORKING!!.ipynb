{
 "cells": [
  {
   "cell_type": "code",
   "execution_count": 3,
   "metadata": {},
   "outputs": [],
   "source": [
    "import sys\n",
    "import numpy , random , math\n",
    "from scipy.optimize import minimize\n",
    "import matplotlib\n",
    "matplotlib.use('TkAgg')\n",
    "import matplotlib.pyplot as plt\n",
    "%matplotlib inline"
   ]
  },
  {
   "cell_type": "markdown",
   "metadata": {},
   "source": [
    "### Kernel function"
   ]
  },
  {
   "cell_type": "code",
   "execution_count": 4,
   "metadata": {},
   "outputs": [],
   "source": [
    "def linear_kernel(x,y):\n",
    "    return numpy.dot(numpy.transpose(x),y)\n",
    "\n",
    "def poly_kernel(x,y,p):\n",
    "    return numpy.power(numpy.dot(numpy.transpose(x),y) + 1,p)\n",
    "\n",
    "def rbf_kernel(x,y,sigma):\n",
    "    #distance=numpy.sqrt(x**2 - y**2)\n",
    "    distance = numpy.linalg.norm(x-y)\n",
    "\n",
    "    result=numpy.power(distance,2)\n",
    "    smooth=2*numpy.power(sigma,2)\n",
    "    return numpy.exp(-(result/smooth))\n"
   ]
  },
  {
   "cell_type": "markdown",
   "metadata": {},
   "source": [
    "### Objective "
   ]
  },
  {
   "cell_type": "code",
   "execution_count": 5,
   "metadata": {},
   "outputs": [],
   "source": [
    "def objective(alpha):\n",
    "    #dualScalar=1/2*numpy.sum(numpy.dot(alpha,P))-numpy.sum(alpha)\n",
    "    dualScalar=0\n",
    "    for i in range(len(inputs)):\n",
    "        for j in range(len(inputs)):\n",
    "            dualScalar+=alpha[i]*alpha[j]*P[i][j]\n",
    "    \n",
    "    sumAlpha=0\n",
    "    for i in range(len(inputs)):\n",
    "        sumAlpha+=alpha[i]        \n",
    "    \n",
    "    dualScalar=1/2*dualScalar-sumAlpha\n",
    "    \n",
    "    return dualScalar"
   ]
  },
  {
   "cell_type": "markdown",
   "metadata": {},
   "source": [
    "### Zero Fun "
   ]
  },
  {
   "cell_type": "code",
   "execution_count": 6,
   "metadata": {},
   "outputs": [],
   "source": [
    "xZ=0"
   ]
  },
  {
   "cell_type": "code",
   "execution_count": 7,
   "metadata": {},
   "outputs": [],
   "source": [
    "def zerofun(alpha):\n",
    "    xZ= numpy.dot(alpha,targets)\n",
    "    return xZ\n"
   ]
  },
  {
   "cell_type": "markdown",
   "metadata": {},
   "source": [
    "### Data and initial params "
   ]
  },
  {
   "cell_type": "code",
   "execution_count": 8,
   "metadata": {},
   "outputs": [],
   "source": [
    "classA = numpy. concatenate((numpy.random.randn(10, 2) * 0.2 + [1.5, 0.5],\n",
    "numpy.random.randn(10, 2) * 0.2 + [-1.5 ,0.5]))\n",
    "classB = numpy.random.randn(20, 2) * 0.2 + [0.0, -0.5]\n",
    "inputs = numpy.concatenate (( classA , classB ))\n",
    "targets = numpy.concatenate(\n",
    "    (numpy.ones(classA.shape[0]) , -numpy.ones(classB.shape[0])))\n",
    "N =inputs.shape[0]\n",
    "start=numpy.zeros(N)"
   ]
  },
  {
   "cell_type": "code",
   "execution_count": 9,
   "metadata": {},
   "outputs": [
    {
     "name": "stdout",
     "output_type": "stream",
     "text": [
      "[[ 1.51683604  0.75701855]\n",
      " [ 1.71279753  0.91784736]\n",
      " [ 1.24021877  0.57637533]\n",
      " [ 1.48511862  0.28485946]\n",
      " [ 1.75223272  0.52474212]\n",
      " [ 1.3392595   0.57619374]\n",
      " [ 1.48977589  0.46771823]\n",
      " [ 1.78979304  0.26693076]\n",
      " [ 1.73469752  0.52459444]\n",
      " [ 1.37834818  0.63869161]\n",
      " [-1.41559845  0.55775661]\n",
      " [-1.84356849  0.27257656]\n",
      " [-1.37474436  0.45722635]\n",
      " [-1.54882449  0.48566169]\n",
      " [-1.51596992  0.70429059]\n",
      " [-1.79922617  0.30024978]\n",
      " [-1.94191778  0.53160717]\n",
      " [-1.52426285  0.33544829]\n",
      " [-1.43194716  0.39615743]\n",
      " [-1.77700223  0.83043968]\n",
      " [-0.41516209 -0.70597447]\n",
      " [ 0.14019951 -0.61337286]\n",
      " [ 0.08828947 -0.87036163]\n",
      " [-0.22685885 -0.47016869]\n",
      " [ 0.24778981 -0.67679252]\n",
      " [-0.22265018 -0.70322007]\n",
      " [ 0.01758758 -0.84518883]\n",
      " [-0.14225789 -0.73459536]\n",
      " [-0.05956717 -0.28415174]\n",
      " [ 0.32308331 -0.57211336]\n",
      " [ 0.22737645 -0.51431565]\n",
      " [-0.30416221 -0.83028337]\n",
      " [-0.1590537  -0.27058077]\n",
      " [ 0.09791935 -0.68872472]\n",
      " [ 0.2100616  -0.65824081]\n",
      " [ 0.22863366 -0.23511907]\n",
      " [ 0.32286152 -0.69490413]\n",
      " [ 0.38310967 -0.54404477]\n",
      " [ 0.28619557 -0.56556709]\n",
      " [ 0.14067264 -0.58520083]]\n"
     ]
    }
   ],
   "source": [
    "print inputs"
   ]
  },
  {
   "cell_type": "code",
   "execution_count": 10,
   "metadata": {},
   "outputs": [
    {
     "name": "stdout",
     "output_type": "stream",
     "text": [
      "[ 1.  1.  1.  1.  1.  1.  1.  1.  1.  1.  1.  1.  1.  1.  1.  1.  1.  1.\n",
      "  1.  1. -1. -1. -1. -1. -1. -1. -1. -1. -1. -1. -1. -1. -1. -1. -1. -1.\n",
      " -1. -1. -1. -1.]\n"
     ]
    }
   ],
   "source": [
    "print targets"
   ]
  },
  {
   "cell_type": "markdown",
   "metadata": {},
   "source": [
    "### Gobal Matrix P "
   ]
  },
  {
   "cell_type": "code",
   "execution_count": 11,
   "metadata": {},
   "outputs": [],
   "source": [
    "P=numpy.zeros((len(inputs),len(inputs)))\n",
    "for i in range(len(inputs)):\n",
    "    for j in range(len(inputs)):\n",
    "        P[i][j]=targets[i]*targets[j]*poly_kernel(inputs[i][0:2],inputs[j][0:2],2)"
   ]
  },
  {
   "cell_type": "markdown",
   "metadata": {},
   "source": [
    " ### Optimization function"
   ]
  },
  {
   "cell_type": "code",
   "execution_count": 12,
   "metadata": {},
   "outputs": [
    {
     "name": "stdout",
     "output_type": "stream",
     "text": [
      "True\n",
      "0\n",
      "above is zeroFun\n",
      "4.9999999999956195\n",
      "4.999999999995567\n",
      "4.999999999995598\n",
      "4.999999999995607\n",
      "4.9999999999956035\n",
      "4.999999999995615\n",
      "4.999999999995603\n",
      "4.999999999995639\n",
      "4.99999999999561\n",
      "4.999999999995608\n",
      "4.999999999995604\n",
      "4.999999999995615\n",
      "4.99999999999561\n",
      "4.999999999995609\n",
      "4.999999999995604\n",
      "4.999999999995605\n",
      "4.999999999995614\n",
      "4.99999999999561\n",
      "4.999999999995611\n",
      "4.9999999999956115\n",
      "4.999999999995612\n",
      "4.999999999995613\n",
      "4.999999999995611\n",
      "4.999999999995616\n",
      "4.9999999999956\n",
      "4.999999999995603\n",
      "4.999999999995599\n",
      "4.9999999999956115\n",
      "4.9999999999956035\n",
      "4.999999999995607\n",
      "4.999999999995606\n",
      "4.999999999995614\n",
      "4.999999999995611\n",
      "4.999999999995607\n",
      "4.999999999995609\n",
      "4.999999999995608\n",
      "4.999999999995611\n",
      "4.999999999995616\n",
      "4.999999999995608\n",
      "4.999999999995601\n"
     ]
    }
   ],
   "source": [
    "C=5\n",
    "ret = minimize(objective,start, bounds=[(0, C) for b in range(N)], constraints={'type':'eq', 'fun':zerofun})\n",
    "alpha = ret['x']\n",
    "print ret['success']\n",
    "print xZ\n",
    "print 'above is zeroFun'\n",
    "# alpha=start\n",
    "# for i in range(100):\n",
    "#     print i\n",
    "#     ret = minimize(objective,alpha, bounds=[(0, None) for b in range(N)], constraints={'type':'eq', 'fun':zerofun})\n",
    "#     alpha = ret['x']\n",
    "for x in alpha:\n",
    "    print x"
   ]
  },
  {
   "cell_type": "markdown",
   "metadata": {},
   "source": [
    "### Extract non zero Alphas "
   ]
  },
  {
   "cell_type": "code",
   "execution_count": 13,
   "metadata": {},
   "outputs": [
    {
     "name": "stdout",
     "output_type": "stream",
     "text": [
      "[4.999999999995598, array([1.24021877, 0.57637533]), 1.0]\n"
     ]
    }
   ],
   "source": [
    "\n",
    "threshold=10e-5\n",
    "support=[]\n",
    "for i in range(len(alpha)):\n",
    "    if(threshold < alpha[i]):\n",
    "        support.append([alpha[i],inputs[i], targets[i]])\n",
    "\n",
    "# for x in support:\n",
    "#     print (x[2])\n",
    "print (support[2])\n"
   ]
  },
  {
   "cell_type": "markdown",
   "metadata": {},
   "source": [
    "### B"
   ]
  },
  {
   "cell_type": "code",
   "execution_count": 14,
   "metadata": {},
   "outputs": [
    {
     "name": "stdout",
     "output_type": "stream",
     "text": [
      "[1.24021877 0.57637533]\n",
      "(2,)\n",
      "()\n",
      "0.5934690881561705\n",
      "()\n",
      "719.6089050265724\n"
     ]
    }
   ],
   "source": [
    "bias=0\n",
    "for i in range(len(inputs)):\n",
    "    if(alpha[i]>0 and alpha[i]<C):\n",
    "        pK=poly_kernel(support[0][1],inputs[i],2)\n",
    "        bias=bias+alpha[i]*targets[i]*pK\n",
    "bias-=support[1][2]\n",
    "\n",
    "\n",
    "print support[2][1]\n",
    "print support[2][1].shape\n",
    "print pK.shape \n",
    "print pK\n",
    "print bias.shape       \n",
    "print bias"
   ]
  },
  {
   "cell_type": "markdown",
   "metadata": {},
   "source": [
    "# The indicator function\n",
    "Implement the indicator function (equation 6) which uses the non-zero\n",
    "α i ’s together with their ⃗x i ’s and t i ’s to classify new points.\n",
    "\n",
    "\n",
    "def poly_kernel(x,y,p):\n",
    "    return numpy.power(numpy.dot(numpy.transpose(x),y) + 1,p)\n"
   ]
  },
  {
   "cell_type": "code",
   "execution_count": 15,
   "metadata": {},
   "outputs": [
    {
     "name": "stdout",
     "output_type": "stream",
     "text": [
      "-3237.781328825314\n"
     ]
    }
   ],
   "source": [
    "def indicator(x,y):\n",
    "    new=[x,y]\n",
    "    pred=0\n",
    "        \n",
    "    for i in range(len(inputs)):\n",
    "        if(alpha[i]>0 and alpha[i]<C):\n",
    "            pK=poly_kernel(new,inputs[i],3)\n",
    "            pred+=alpha[i]*targets[i]*pK\n",
    "   \n",
    "    pred-=bias\n",
    "    return pred\n",
    "     \n",
    "print indicator(0,-3)"
   ]
  },
  {
   "cell_type": "markdown",
   "metadata": {},
   "source": [
    "# Test Data"
   ]
  },
  {
   "cell_type": "code",
   "execution_count": 16,
   "metadata": {},
   "outputs": [],
   "source": [
    "numpy.random.seed(1010)\n",
    "permute=list(range(N))\n",
    "random.shuffle(permute)\n",
    "inputs = inputs[permute,:]\n",
    "targets = targets[permute]"
   ]
  },
  {
   "cell_type": "markdown",
   "metadata": {},
   "source": [
    "# Plotting"
   ]
  },
  {
   "cell_type": "code",
   "execution_count": 17,
   "metadata": {},
   "outputs": [
    {
     "data": {
      "image/png": "[encoded data removed]",
      "text/plain": [
       "<Figure size 432x288 with 1 Axes>"
      ]
     },
     "metadata": {
      "needs_background": "light"
     },
     "output_type": "display_data"
    }
   ],
   "source": [
    "plt.plot([p[0] for p in classA],\n",
    "        [p[1] for p in classA],\n",
    "        'b.')\n",
    "plt.plot([p[0] for p in classB],\n",
    "        [p[1] for p in classB],\n",
    "        'r.')\n",
    "xgrid=numpy.linspace(-5, 5)\n",
    "ygrid=numpy.linspace(-4, 4)\n",
    "grid=numpy.array([[indicator(x,y)\n",
    "                   for x in xgrid ]\n",
    "                  for y in ygrid])\n",
    "plt.contour(xgrid,ygrid,grid,\n",
    "               (-1.0, 0.0, 1.0),\n",
    "               colors=('red', 'black', 'blue'),\n",
    "               linewidths=(1, 3, 1))\n",
    "plt.axis('equal')\n",
    "plt.savefig('svm.pdf')\n",
    "plt.show()"
   ]
  },
  {
   "cell_type": "markdown",
   "metadata": {},
   "source": []
  }
 ],
 "metadata": {
  "kernelspec": {
   "display_name": "Python 3",
   "language": "python",
   "name": "python3"
  },
  "language_info": {
   "codemirror_mode": {
    "name": "ipython",
    "version": 2
   },
   "file_extension": ".py",
   "mimetype": "text/x-python",
   "name": "python",
   "nbconvert_exporter": "python",
   "pygments_lexer": "ipython2",
   "version": "2.7.12"
  }
 },
 "nbformat": 4,
 "nbformat_minor": 2
}
