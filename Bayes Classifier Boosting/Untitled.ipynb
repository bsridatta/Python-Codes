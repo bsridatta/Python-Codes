{
 "cells": [
  {
   "cell_type": "code",
   "execution_count": null,
   "metadata": {},
   "outputs": [],
   "source": [
    "IndexError                                Traceback (most recent call last)\n",
    "<ipython-input-126-7270a2eb66a6> in <module>()\n",
    "----> 1 testClassifier(BoostClassifier(BayesClassifier(), T=10), dataset='iris',split=0.7)\n",
    "\n",
    "/media/datta/Sri Datta/_KTH_ACADEMIA/ML/lab3py/labfuns.pyc in testClassifier(classifier, dataset, dim, split, ntrials)\n",
    "    195 \n",
    "    196         # Train\n",
    "--> 197         trained_classifier = classifier.trainClassifier(xTr, yTr)\n",
    "    198         # Predict\n",
    "    199         yPr = trained_classifier.classify(xTe)\n",
    "\n",
    "<ipython-input-125-3b5bc17c3420> in trainClassifier(self, X, labels)\n",
    "      9         rtn = BoostClassifier(self.base_classifier, self.T)\n",
    "     10         rtn.nbr_classes = np.size(np.unique(labels))\n",
    "---> 11         rtn.classifiers, rtn.alphas = trainBoost(self.base_classifier, X, labels, self.T)\n",
    "     12         rtn.trained = True\n",
    "     13         return rtn\n",
    "\n",
    "<ipython-input-124-10bbd31466a0> in trainBoost(base_classifier, X, labels, T)\n",
    "     17     for i_iter in range(0, T):\n",
    "     18         # a new classifier can be trained like this, given the current weights\n",
    "---> 19         classifiers.append(base_classifier.trainClassifier(X, labels, wCur))\n",
    "     20 \n",
    "     21         # do classification for each point\n",
    "\n",
    "<ipython-input-119-d6c8683e833c> in trainClassifier(self, X, labels, W)\n",
    "      6     def trainClassifier(self, X, labels, W=None):\n",
    "      7         rtn = BayesClassifier()\n",
    "----> 8         rtn.prior = computePrior(labels, W)\n",
    "      9         rtn.mu, rtn.sigma = mlParams(X, labels, W)\n",
    "     10         rtn.trained = True\n",
    "\n",
    "<ipython-input-117-722b6539b5a6> in computePrior(labels, W)\n",
    "      7         W = np.ones((Npts,1))/Npts\n",
    "      8     else:\n",
    "----> 9         assert(W.shape[0] == Npts)\n",
    "     10     classes = np.unique(labels)\n",
    "     11     Nclasses = np.size(classes)\n",
    "\n",
    "IndexError: tuple index out of range\n"
   ]
  }
 ],
 "metadata": {
  "kernelspec": {
   "display_name": "Python 3",
   "language": "python",
   "name": "python3"
  },
  "language_info": {
   "codemirror_mode": {
    "name": "ipython",
    "version": 2
   },
   "file_extension": ".py",
   "mimetype": "text/x-python",
   "name": "python",
   "nbconvert_exporter": "python",
   "pygments_lexer": "ipython2",
   "version": "2.7.12"
  }
 },
 "nbformat": 4,
 "nbformat_minor": 2
}
